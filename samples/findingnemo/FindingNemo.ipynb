{
 "cells": [
  {
   "cell_type": "code",
   "execution_count": 1,
   "metadata": {},
   "outputs": [
    {
     "name": "stdout",
     "output_type": "stream",
     "text": [
      "3.5.4 |Anaconda custom (64-bit)| (default, Nov  8 2017, 14:34:30) [MSC v.1900 64 bit (AMD64)]\n"
     ]
    }
   ],
   "source": [
    "import sys\n",
    "print (sys.version)"
   ]
  },
  {
   "cell_type": "code",
   "execution_count": 2,
   "metadata": {},
   "outputs": [
    {
     "name": "stdout",
     "output_type": "stream",
     "text": [
      "absl-py==0.2.0\n",
      "alabaster==0.7.10\n",
      "anaconda-client==1.6.9\n",
      "anaconda-project==0.8.2\n",
      "asn1crypto==0.24.0\n",
      "astor==0.6.2\n",
      "astroid==1.6.1\n",
      "astropy==2.0.3\n",
      "attrs==17.4.0\n",
      "Babel==2.5.3\n",
      "backports.shutil-get-terminal-size==1.0.0\n",
      "beautifulsoup4==4.6.0\n",
      "bitarray==0.8.1\n",
      "bkcharts==0.2\n",
      "blaze==0.11.3\n",
      "bleach==1.5.0\n",
      "bokeh==0.12.13\n",
      "boto==2.48.0\n",
      "Bottleneck==1.2.1\n",
      "certifi==2018.4.16\n",
      "cffi==1.11.4\n",
      "chardet==3.0.4\n",
      "click==6.7\n",
      "cloudpickle==0.5.2\n",
      "clyent==1.2.2\n",
      "colorama==0.3.9\n",
      "comtypes==1.1.4\n",
      "contextlib2==0.5.5\n",
      "cryptography==2.1.4\n",
      "cycler==0.10.0\n",
      "Cython==0.27.3\n",
      "cytoolz==0.9.0\n",
      "dask==0.16.1\n",
      "datashape==0.5.4\n",
      "decorator==4.2.1\n",
      "distributed==1.20.2\n",
      "docutils==0.14\n",
      "entrypoints==0.2.3\n",
      "et-xmlfile==1.0.1\n",
      "fastcache==1.0.2\n",
      "filelock==2.0.13\n",
      "Flask==0.12.2\n",
      "Flask-Cors==3.0.3\n",
      "gast==0.2.0\n",
      "gevent==1.2.2\n",
      "glob2==0.6\n",
      "greenlet==0.4.12\n",
      "grpcio==1.11.0\n",
      "h5py==2.7.1\n",
      "heapdict==1.0.0\n",
      "html5lib==0.9999999\n",
      "idna==2.6\n",
      "imageio==2.2.0\n",
      "imagesize==0.7.1\n",
      "imgaug==0.2.5\n",
      "ipython==6.2.1\n",
      "ipython-genutils==0.2.0\n",
      "ipywidgets==7.1.1\n",
      "isort==4.2.15\n",
      "itsdangerous==0.24\n",
      "jdcal==1.3\n",
      "jedi==0.11.1\n",
      "Jinja2==2.10\n",
      "jsonschema==2.6.0\n",
      "jupyter==1.0.0\n",
      "jupyter-client==5.2.2\n",
      "jupyter-console==5.2.0\n",
      "jupyter-core==4.4.0\n",
      "jupyterlab==0.31.4\n",
      "jupyterlab-launcher==0.10.2\n",
      "lazy-object-proxy==1.3.1\n",
      "llvmlite==0.21.0\n",
      "locket==0.2.0\n",
      "lxml==4.2.1\n",
      "Markdown==2.6.11\n",
      "MarkupSafe==1.0\n",
      "matplotlib==2.1.2\n",
      "mccabe==0.6.1\n",
      "menuinst==1.4.11\n",
      "mistune==0.8.3\n",
      "mpmath==1.0.0\n",
      "msgpack-python==0.5.1\n",
      "multipledispatch==0.4.9\n",
      "nbconvert==5.3.1\n",
      "nbformat==4.4.0\n",
      "networkx==2.1\n",
      "nltk==3.2.5\n",
      "nose==1.3.7\n",
      "notebook==5.4.0\n",
      "numba==0.36.2\n",
      "numexpr==2.6.4\n",
      "numpy==1.14.2\n",
      "numpydoc==0.7.0\n",
      "odo==0.5.1\n",
      "olefile==0.45.1\n",
      "openpyxl==2.4.10\n",
      "packaging==16.8\n",
      "pandas==0.22.0\n",
      "pandocfilters==1.4.2\n",
      "parso==0.1.1\n",
      "partd==0.3.8\n",
      "path.py==10.5\n",
      "pathlib2==2.3.0\n",
      "patsy==0.5.0\n",
      "pep8==1.7.1\n",
      "pickleshare==0.7.4\n",
      "Pillow==5.0.0\n",
      "pkginfo==1.4.1\n",
      "pluggy==0.6.0\n",
      "ply==3.10\n",
      "prompt-toolkit==1.0.15\n",
      "protobuf==3.5.2.post1\n",
      "psutil==5.4.3\n",
      "py==1.5.2\n",
      "pycodestyle==2.3.1\n",
      "pycosat==0.6.3\n",
      "pycparser==2.18\n",
      "pycrypto==2.6.1\n",
      "pycurl==7.43.0.1\n",
      "pyflakes==1.6.0\n",
      "Pygments==2.2.0\n",
      "pylint==1.8.2\n",
      "pyodbc==4.0.22\n",
      "pyOpenSSL==17.5.0\n",
      "pyparsing==2.2.0\n",
      "PySocks==1.6.7\n",
      "pytest==3.3.2\n",
      "python-dateutil==2.6.1\n",
      "pytube==9.2.2\n",
      "pytz==2017.3\n",
      "PyWavelets==0.5.2\n",
      "pywin32==222\n",
      "pywinpty==0.5\n",
      "PyYAML==3.12\n",
      "pyzmq==16.0.3\n",
      "QtAwesome==0.4.4\n",
      "qtconsole==4.3.1\n",
      "QtPy==1.3.1\n",
      "requests==2.18.4\n",
      "rope==0.10.7\n",
      "ruamel-yaml==0.15.35\n",
      "scikit-image==0.13.1\n",
      "scikit-learn==0.19.1\n",
      "scipy==1.0.0\n",
      "seaborn==0.8.1\n",
      "Send2Trash==1.4.2\n",
      "simplegeneric==0.8.1\n",
      "singledispatch==3.4.0.3\n",
      "six==1.11.0\n",
      "snowballstemmer==1.2.1\n",
      "sortedcollections==0.5.3\n",
      "sortedcontainers==1.5.9\n",
      "Sphinx==1.6.6\n",
      "sphinxcontrib-websupport==1.0.1\n",
      "spyder==3.2.6\n",
      "SQLAlchemy==1.2.1\n",
      "statsmodels==0.8.0\n",
      "sympy==1.1.1\n",
      "tables==3.4.2\n",
      "tblib==1.3.2\n",
      "tensorboard==1.7.0\n",
      "tensorflow==1.7.0\n",
      "termcolor==1.1.0\n",
      "terminado==0.8.1\n",
      "testpath==0.3.1\n",
      "toolz==0.9.0\n",
      "tornado==4.5.3\n",
      "traitlets==4.3.2\n",
      "typing==3.6.2\n",
      "unicodecsv==0.14.1\n",
      "urllib3==1.22\n",
      "wcwidth==0.1.7\n",
      "webencodings==0.5.1\n",
      "Werkzeug==0.14.1\n",
      "widgetsnbextension==3.1.0\n",
      "win-inet-pton==1.0.1\n",
      "win-unicode-console==0.5\n",
      "wincertstore==0.2\n",
      "wrapt==1.10.11\n",
      "xlrd==1.1.0\n",
      "XlsxWriter==1.0.2\n",
      "xlwings==0.11.5\n",
      "xlwt==1.3.0\n",
      "zict==0.1.3\n"
     ]
    }
   ],
   "source": [
    "!pip freeze"
   ]
  },
  {
   "cell_type": "code",
   "execution_count": 3,
   "metadata": {},
   "outputs": [
    {
     "name": "stdout",
     "output_type": "stream",
     "text": [
      "Requirement already satisfied: pytube in c:\\users\\azadeh khojandi\\appdata\\local\\conda\\conda\\envs\\py35\\lib\\site-packages (9.2.2)\n"
     ]
    },
    {
     "name": "stderr",
     "output_type": "stream",
     "text": [
      "jupyter 1.0.0 requires ipykernel, which is not installed.\n",
      "ipywidgets 7.1.1 requires ipykernel>=4.5.1, which is not installed.\n",
      "notebook 5.4.0 requires ipykernel, which is not installed.\n",
      "jupyter-console 5.2.0 requires ipykernel, which is not installed.\n"
     ]
    }
   ],
   "source": [
    "!pip install pytube"
   ]
  },
  {
   "cell_type": "code",
   "execution_count": 4,
   "metadata": {},
   "outputs": [],
   "source": [
    "from pytube import YouTube\n",
    "import os\n",
    "    \n",
    "def downloadYouTube(videourl, path):\n",
    "   \n",
    "    yt = YouTube(videourl)\n",
    "    yt = yt.streams.filter(progressive=True, file_extension='mp4').order_by('resolution').desc().first()\n",
    "    if not os.path.exists(path):\n",
    "        os.makedirs(path)\n",
    "    yt.download(path)\n",
    "\n"
   ]
  },
  {
   "cell_type": "markdown",
   "metadata": {},
   "source": [
    "Inside a terminal install open cv:\n",
    "\n",
    "`conda install -c conda-forge opencv`"
   ]
  },
  {
   "cell_type": "code",
   "execution_count": 5,
   "metadata": {},
   "outputs": [
    {
     "name": "stdout",
     "output_type": "stream",
     "text": [
      "3.4.1\n"
     ]
    }
   ],
   "source": [
    "import os\n",
    "import cv2\n",
    "print(cv2.__version__)"
   ]
  },
  {
   "cell_type": "code",
   "execution_count": 8,
   "metadata": {},
   "outputs": [],
   "source": [
    "\n",
    "\n",
    "\n",
    "def exportframes(videoPath,outputpath,prefix,export_ps):\n",
    "    \n",
    "    print('exportig frames to %s' % (outputpath) )\n",
    "    \n",
    "    if not os.path.exists(outputpath):\n",
    "        os.makedirs(outputpath)\n",
    "    \n",
    "    vidcap = cv2.VideoCapture(videoPath)\n",
    "    success,np_image = vidcap.read()\n",
    "    print('success:',success)\n",
    "    if (success):\n",
    "        print('np_image',np_image.shape)\n",
    "        fps=vidcap.get(cv2.CAP_PROP_FPS)\n",
    "        print('fps:',fps)\n",
    "        #number of frames to export  second\n",
    "        fpsexport=fps* export_ps\n",
    "        print('exporting frame every %s second' %(export_ps))\n",
    "        count = 0\n",
    "        success=True\n",
    "        while success:\n",
    "            if (int(count % fpsexport)) ==0:\n",
    "                print (count)\n",
    "                tmpimagepath=os.path.join(outputpath,'%s_f_%d.jpg' % (prefix,count)).replace('\\\\','/') \n",
    "                cv2.imwrite(tmpimagepath, np_image)     # save frame as JPEG file\n",
    "            success,np_image = vidcap.read()\n",
    "            count += 1\n",
    "        print('exporting finished....')\n",
    "    else:\n",
    "        print('cannot read the video')\n"
   ]
  },
  {
   "cell_type": "code",
   "execution_count": null,
   "metadata": {},
   "outputs": [],
   "source": [
    "downloadYouTube('https://www.youtube.com/watch?v=zNyYDHCg06c', './videos')"
   ]
  },
  {
   "cell_type": "code",
   "execution_count": 9,
   "metadata": {},
   "outputs": [
    {
     "name": "stdout",
     "output_type": "stream",
     "text": [
      "exportig frames to ./frames/\n",
      "success: True\n",
      "np_image (720, 1280, 3)\n",
      "fps: 30.0\n",
      "exporting frame every 20 second\n",
      "0\n",
      "600\n",
      "1200\n",
      "1800\n",
      "2400\n",
      "3000\n",
      "3600\n",
      "4200\n",
      "4800\n",
      "5400\n",
      "6000\n",
      "6600\n",
      "7200\n",
      "exporting finished....\n"
     ]
    }
   ],
   "source": [
    "exportframes('./videos/Finding Nemo- Dorys Best Moments.mp4','./frames/','v1',20)"
   ]
  },
  {
   "cell_type": "code",
   "execution_count": 16,
   "metadata": {},
   "outputs": [],
   "source": [
    "downloadYouTube('https://www.youtube.com/watch?v=AuCxjO2E9Co', './videos') "
   ]
  },
  {
   "cell_type": "code",
   "execution_count": 13,
   "metadata": {},
   "outputs": [
    {
     "name": "stdout",
     "output_type": "stream",
     "text": [
      "exportig frames to ./frames\n",
      "success: True\n",
      "np_image (360, 638, 3)\n",
      "fps: 25.0\n",
      "exporting frame every 10 second\n",
      "0\n",
      "250\n",
      "500\n",
      "750\n",
      "1000\n",
      "1250\n",
      "1500\n",
      "1750\n",
      "2000\n",
      "exporting finished....\n"
     ]
    }
   ],
   "source": [
    "exportframes('./videos/Finding Nemo Trailer 2 HD.mp4','./frames','v2',10)"
   ]
  },
  {
   "cell_type": "code",
   "execution_count": 21,
   "metadata": {},
   "outputs": [],
   "source": [
    "downloadYouTube('https://www.youtube.com/watch?v=3JNLwlcPBPI', './videos') "
   ]
  },
  {
   "cell_type": "code",
   "execution_count": 12,
   "metadata": {},
   "outputs": [
    {
     "name": "stdout",
     "output_type": "stream",
     "text": [
      "exportig frames to ./frames/\n",
      "success: True\n",
      "np_image (720, 1280, 3)\n",
      "fps: 23.976025275295644\n",
      "exporting frame every 5 second\n",
      "0\n",
      "120\n",
      "240\n",
      "360\n",
      "480\n",
      "600\n",
      "720\n",
      "840\n",
      "960\n",
      "1079\n",
      "1199\n",
      "1319\n",
      "1439\n",
      "1559\n",
      "1679\n",
      "1799\n",
      "1919\n",
      "2038\n",
      "2158\n",
      "2278\n",
      "2398\n",
      "exporting finished....\n"
     ]
    }
   ],
   "source": [
    "exportframes('./videos/EXCLUSIVE Finding Dory Trailer.mp4','./frames/','v3',5)"
   ]
  },
  {
   "cell_type": "markdown",
   "metadata": {},
   "source": [
    "download tagging tool from `http://www.robots.ox.ac.uk/~vgg/software/via/` and start tagging frames "
   ]
  },
  {
   "cell_type": "code",
   "execution_count": null,
   "metadata": {},
   "outputs": [],
   "source": []
  },
  {
   "cell_type": "code",
   "execution_count": null,
   "metadata": {},
   "outputs": [],
   "source": []
  }
 ],
 "metadata": {
  "kernelspec": {
   "display_name": "Python 3",
   "language": "python",
   "name": "python3"
  },
  "language_info": {
   "codemirror_mode": {
    "name": "ipython",
    "version": 3
   },
   "file_extension": ".py",
   "mimetype": "text/x-python",
   "name": "python",
   "nbconvert_exporter": "python",
   "pygments_lexer": "ipython3",
   "version": "3.5.4"
  }
 },
 "nbformat": 4,
 "nbformat_minor": 2
}
